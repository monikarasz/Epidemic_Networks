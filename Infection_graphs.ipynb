{
 "nbformat": 4,
 "nbformat_minor": 0,
 "metadata": {
  "colab": {
   "provenance": []
  },
  "kernelspec": {
   "name": "python3",
   "display_name": "Python 3"
  },
  "language_info": {
   "name": "python"
  }
 },
 "cells": [
  {
   "cell_type": "code",
   "execution_count": 1,
   "metadata": {
    "id": "KkSDsuP5YK_f"
   },
   "outputs": [],
   "source": [
    "import utils\n",
    "from SI import SI\n",
    "from SIR import SIR"
   ]
  },
  {
   "cell_type": "markdown",
   "source": [
    "SI"
   ],
   "metadata": {
    "id": "JXzO-Z9aM5Dj"
   }
  },
  {
   "cell_type": "code",
   "source": [
    "color_dict = {0:'blue',1:'orange'}#blue - healthy, orange - infected\n",
    "size = 300\n",
    "G, healthy, infected, pos = utils.new_graph(size=size,initial_infections=20, graph_type='nws', params={'neighbors_connected': 6, 'prob_connection': 0.1})\n",
    "model = SI(G=G, pos=pos, size=size, healthy=healthy, infected=infected, color_dict=color_dict, b=0.2)\n",
    "model.run_evolution()\n",
    "evolution = model.get_infected_history()\n",
    "t = model.get_run_time()\n",
    "utils.draw_evolution(evolution, t, 'SI', 'infected_history', 'number of infected')"
   ],
   "metadata": {
    "colab": {
     "base_uri": "https://localhost:8080/",
     "height": 1000
    },
    "id": "D8-FRe0AE8rA",
    "outputId": "dc38ebc9-54f1-4fad-8bc3-cb60a11b9a90"
   },
   "execution_count": 2,
   "outputs": []
  },
  {
   "cell_type": "markdown",
   "source": [
    "SIR"
   ],
   "metadata": {
    "collapsed": false
   }
  },
  {
   "cell_type": "code",
   "execution_count": 3,
   "outputs": [],
   "source": [
    "color_dict = {0:'blue',1:'orange', 2:'green'}#blue - healthy, orange - infected, green - recovered\n",
    "size = 300\n",
    "G, healthy, infected, pos = utils.new_graph(size=size,initial_infections=20, graph_type='nws', params={'neighbors_connected': 6, 'prob_connection': 0.1})\n",
    "model = SIR(G=G, pos=pos, size=size, healthy=healthy, infected=infected, color_dict=color_dict, b=0.2, u=0.1)\n",
    "model.run_evolution()\n",
    "evolution_infected = model.get_infected_history()\n",
    "evolution_recovered = model.get_recovered_history()\n",
    "t = model.get_run_time()\n",
    "utils.draw_evolution(evolution_infected, t, 'SIR', 'infected_history', 'number of infected')\n",
    "utils.draw_evolution(evolution_recovered, t, 'SIR', 'recovered_history', 'number of recovered')"
   ],
   "metadata": {
    "collapsed": false
   }
  }
 ]
}
