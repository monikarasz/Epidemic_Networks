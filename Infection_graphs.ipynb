{
 "cells": [
  {
   "cell_type": "code",
   "execution_count": 1,
   "metadata": {
    "id": "KkSDsuP5YK_f"
   },
   "outputs": [],
   "source": [
    "import utils\n",
    "import strategies\n",
    "from SI import SI\n",
    "from SIR import SIR\n",
    "from SIS import SIS"
   ]
  },
  {
   "cell_type": "markdown",
   "metadata": {
    "id": "JXzO-Z9aM5Dj"
   },
   "source": [
    "SI"
   ]
  },
  {
   "cell_type": "code",
   "execution_count": 2,
   "metadata": {
    "colab": {
     "base_uri": "https://localhost:8080/",
     "height": 1000
    },
    "id": "D8-FRe0AE8rA",
    "outputId": "dc38ebc9-54f1-4fad-8bc3-cb60a11b9a90"
   },
   "outputs": [],
   "source": [
    "color_dict = {0:'blue',1:'orange'}#blue - healthy, orange - infected\n",
    "size = 300\n",
    "G, healthy, infected, pos = utils.new_graph(size=size,initial_infections=20, graph_type='nws', params={'neighbors_connected': 6, 'prob_connection': 0.1})\n",
    "model = SI(G=G, pos=pos, size=size, healthy=healthy, infected=infected, color_dict=color_dict, b=0.2)\n",
    "model.run_evolution()\n",
    "evolution = model.get_infected_history()\n",
    "t = model.get_run_time()\n",
    "utils.draw_evolution(evolution, t, 'SI', 'infected_history', 'number of infected')"
   ]
  },
  {
   "cell_type": "markdown",
   "metadata": {
    "collapsed": false
   },
   "source": [
    "SIR"
   ]
  },
  {
   "cell_type": "code",
   "execution_count": 3,
   "metadata": {
    "collapsed": false
   },
   "outputs": [],
   "source": [
    "color_dict = {0:'blue',1:'orange', 2:'green'}#blue - healthy, orange - infected, green - recovered\n",
    "size = 300\n",
    "G, healthy, infected, pos = utils.new_graph(size=size,initial_infections=20, graph_type='nws', params={'neighbors_connected': 6, 'prob_connection': 0.1})\n",
    "model = SIR(G=G, pos=pos, size=size, healthy=healthy, infected=infected, color_dict=color_dict, b=0.2, u=0.1)\n",
    "model.run_evolution()\n",
    "evolution_infected = model.get_infected_history()\n",
    "evolution_recovered = model.get_recovered_history()\n",
    "t = model.get_run_time()\n",
    "utils.draw_evolution(evolution_infected, t, 'SIR', 'infected_history', 'number of infected')\n",
    "utils.draw_evolution(evolution_recovered, t, 'SIR', 'recovered_history', 'number of recovered')"
   ]
  },
  {
   "cell_type": "markdown",
   "source": [
    "SIS"
   ],
   "metadata": {
    "collapsed": false
   }
  },
  {
   "cell_type": "code",
   "execution_count": 3,
   "metadata": {},
   "outputs": [],
   "source": [
    "color_dict = {0:'blue',1:'orange'}#blue - healthy, orange - infected\n",
    "size = 300\n",
    "G, healthy, infected, pos = utils.new_graph(size=size,initial_infections=20, graph_type='nws', params={'neighbors_connected': 6, 'prob_connection': 0.1})\n",
    "model = SIS(G=G, pos=pos, size=size, healthy=healthy, infected=infected, color_dict=color_dict, b=0.2, g=0.3)\n",
    "model.run_evolution()\n",
    "evolution_infected = model.get_infected_history()\n",
    "t = model.get_run_time()\n",
    "utils.draw_evolution(evolution_infected, t, 'SIS', 'infected_history', 'number of infected')"
   ]
  },
  {
   "cell_type": "markdown",
   "source": [
    "Immunization"
   ],
   "metadata": {
    "collapsed": false
   }
  },
  {
   "cell_type": "markdown",
   "source": [
    "Random small"
   ],
   "metadata": {
    "collapsed": false
   }
  },
  {
   "cell_type": "code",
   "execution_count": 2,
   "metadata": {},
   "outputs": [],
   "source": [
    "model_name = 'random_immunization_small'\n",
    "color_dict = {0:'blue',1:'orange', 3: 'red'}#blue - healthy, orange - infected, red - immunized\n",
    "size = 300\n",
    "G, healthy, infected, pos = utils.new_graph(size=size,initial_infections=20, graph_type='nws', params={'neighbors_connected': 6, 'prob_connection': 0.1})\n",
    "model = SIS(G=G, pos=pos, size=size, healthy=healthy, infected=infected, color_dict=color_dict, b=0.2, g=0.3, immunization=True, strategy=strategies.random_immunization, model_name=model_name)\n",
    "model.run_evolution()\n",
    "evolution_infected = model.get_infected_history()\n",
    "evolution_immunized = model.get_immunization_history()\n",
    "t = model.get_run_time()\n",
    "utils.draw_evolution(evolution_infected, t, model_name, 'infected_history', 'number of infected')\n",
    "utils.draw_evolution(evolution_immunized, t, model_name, 'immunized_history', 'number of immunized')"
   ]
  },
  {
   "cell_type": "markdown",
   "source": [
    "Selective small"
   ],
   "metadata": {
    "collapsed": false
   }
  },
  {
   "cell_type": "code",
   "execution_count": 3,
   "outputs": [],
   "source": [
    "model_name = 'selective_immunization_small'\n",
    "color_dict = {0:'blue',1:'orange', 3: 'red'}#blue - healthy, orange - infected, red - immunized\n",
    "size = 300\n",
    "G, healthy, infected, pos = utils.new_graph(size=size,initial_infections=20, graph_type='nws', params={'neighbors_connected': 6, 'prob_connection': 0.1})\n",
    "model = SIS(G=G, pos=pos, size=size, healthy=healthy, infected=infected, color_dict=color_dict, b=0.2, g=0.3, immunization=True, strategy=strategies.selective_immunization, model_name=model_name)\n",
    "model.run_evolution()\n",
    "evolution_infected = model.get_infected_history()\n",
    "evolution_immunized = model.get_immunization_history()\n",
    "t = model.get_run_time()\n",
    "utils.draw_evolution(evolution_infected, t, model_name, 'infected_history', 'number of infected')\n",
    "utils.draw_evolution(evolution_immunized, t, model_name, 'immunized_history', 'number of immunized')"
   ],
   "metadata": {
    "collapsed": false
   }
  },
  {
   "cell_type": "markdown",
   "source": [
    "Random"
   ],
   "metadata": {
    "collapsed": false
   }
  },
  {
   "cell_type": "code",
   "execution_count": 2,
   "outputs": [],
   "source": [
    "model_name = 'random_immunization'\n",
    "color_dict = {0:'blue',1:'orange', 3: 'red'}#blue - healthy, orange - infected, red - immunized\n",
    "size = 1500\n",
    "max_steps = 250\n",
    "G, healthy, infected, pos = utils.new_graph(size=size,initial_infections=20, graph_type='nws', params={'neighbors_connected': 6, 'prob_connection': 0.1})\n",
    "model = SIS(G=G, pos=pos, size=size, healthy=healthy, infected=infected, color_dict=color_dict, b=0.2, g=0.3, immunization=True, strategy=strategies.random_immunization, model_name=model_name, max_steps=max_steps, node_size=4, width=0.2)\n",
    "model.run_evolution()\n",
    "evolution_infected = model.get_infected_history()\n",
    "evolution_immunized = model.get_immunization_history()\n",
    "t = model.get_run_time()\n",
    "utils.draw_evolution(evolution_infected, t, model_name, 'infected_history', 'number of infected')\n",
    "utils.draw_evolution(evolution_immunized, t, model_name, 'immunized_history', 'number of immunized')"
   ],
   "metadata": {
    "collapsed": false
   }
  },
  {
   "cell_type": "markdown",
   "source": [
    "Random scale-free"
   ],
   "metadata": {
    "collapsed": false
   }
  },
  {
   "cell_type": "code",
   "execution_count": 5,
   "outputs": [],
   "source": [
    "model_name = 'random_immunization_scale_free_graph'\n",
    "color_dict = {0:'blue',1:'orange', 3: 'red'}#blue - healthy, orange - infected, red - immunized\n",
    "size = 1500\n",
    "max_steps = 250\n",
    "G, healthy, infected, pos = utils.new_graph(size=size,initial_infections=20, graph_type='sf', params={'m': 3, 'p': 0.1})\n",
    "model = SIS(G=G, pos=pos, size=size, healthy=healthy, infected=infected, color_dict=color_dict, b=0.2, g=0.3, immunization=True, strategy=strategies.random_immunization, model_name=model_name, max_steps=max_steps, node_size=4, width=0.2)\n",
    "model.run_evolution()\n",
    "evolution_infected = model.get_infected_history()\n",
    "evolution_immunized = model.get_immunization_history()\n",
    "t = model.get_run_time()\n",
    "utils.draw_evolution(evolution_infected, t, model_name, 'infected_history', 'number of infected')\n",
    "utils.draw_evolution(evolution_immunized, t, model_name, 'immunized_history', 'number of immunized')"
   ],
   "metadata": {
    "collapsed": false
   }
  },
  {
   "cell_type": "markdown",
   "source": [
    "Selective"
   ],
   "metadata": {
    "collapsed": false
   }
  },
  {
   "cell_type": "code",
   "execution_count": 3,
   "outputs": [],
   "source": [
    "model_name = 'selective_immunization'\n",
    "color_dict = {0:'blue',1:'orange', 3: 'red'}#blue - healthy, orange - infected, red - immunized\n",
    "size = 1500\n",
    "max_steps = 250\n",
    "G, healthy, infected, pos = utils.new_graph(size=size,initial_infections=20, graph_type='nws', params={'neighbors_connected': 6, 'prob_connection': 0.1})\n",
    "model = SIS(G=G, pos=pos, size=size, healthy=healthy, infected=infected, color_dict=color_dict, b=0.2, g=0.3, immunization=True, strategy=strategies.random_immunization, model_name=model_name, max_steps=max_steps, node_size=4, width=0.2)\n",
    "model.run_evolution()\n",
    "evolution_infected = model.get_infected_history()\n",
    "evolution_immunized = model.get_immunization_history()\n",
    "t = model.get_run_time()\n",
    "utils.draw_evolution(evolution_infected, t, model_name, 'infected_history', 'number of infected')\n",
    "utils.draw_evolution(evolution_immunized, t, model_name, 'immunized_history', 'number of immunized')"
   ],
   "metadata": {
    "collapsed": false
   }
  },
  {
   "cell_type": "markdown",
   "source": [
    "Selective scale-free"
   ],
   "metadata": {
    "collapsed": false
   }
  },
  {
   "cell_type": "code",
   "execution_count": 6,
   "outputs": [],
   "source": [
    "model_name = 'selective_immunization_scale_free_graph'\n",
    "color_dict = {0:'blue',1:'orange', 3: 'red'}#blue - healthy, orange - infected, red - immunized\n",
    "size = 1500\n",
    "max_steps = 250\n",
    "G, healthy, infected, pos = utils.new_graph(size=size,initial_infections=20, graph_type='sf', params={'m': 3, 'p': 0.1})\n",
    "model = SIS(G=G, pos=pos, size=size, healthy=healthy, infected=infected, color_dict=color_dict, b=0.2, g=0.3, immunization=True, strategy=strategies.random_immunization, model_name=model_name, max_steps=max_steps, node_size=4, width=0.2)\n",
    "model.run_evolution()\n",
    "evolution_infected = model.get_infected_history()\n",
    "evolution_immunized = model.get_immunization_history()\n",
    "t = model.get_run_time()\n",
    "utils.draw_evolution(evolution_infected, t, model_name, 'infected_history', 'number of infected')\n",
    "utils.draw_evolution(evolution_immunized, t, model_name, 'immunized_history', 'number of immunized')"
   ],
   "metadata": {
    "collapsed": false
   }
  }
 ],
 "metadata": {
  "colab": {
   "provenance": []
  },
  "kernelspec": {
   "display_name": "Python 3",
   "name": "python3"
  },
  "language_info": {
   "codemirror_mode": {
    "name": "ipython",
    "version": 3
   },
   "file_extension": ".py",
   "mimetype": "text/x-python",
   "name": "python",
   "nbconvert_exporter": "python",
   "pygments_lexer": "ipython3",
   "version": "3.12.3"
  }
 },
 "nbformat": 4,
 "nbformat_minor": 0
}
